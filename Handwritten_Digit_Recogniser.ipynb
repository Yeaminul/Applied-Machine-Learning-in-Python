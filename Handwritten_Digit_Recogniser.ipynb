{
  "nbformat": 4,
  "nbformat_minor": 0,
  "metadata": {
    "colab": {
      "name": "Handwritten Digit Recogniser.ipynb",
      "provenance": [],
      "authorship_tag": "ABX9TyPudfcADWd2s5TeFWCTbo72",
      "include_colab_link": true
    },
    "kernelspec": {
      "name": "python3",
      "display_name": "Python 3"
    }
  },
  "cells": [
    {
      "cell_type": "markdown",
      "metadata": {
        "id": "view-in-github",
        "colab_type": "text"
      },
      "source": [
        "<a href=\"https://colab.research.google.com/github/Yeaminul/Applied-Machine-Learning-in-Python/blob/master/Handwritten_Digit_Recogniser.ipynb\" target=\"_parent\"><img src=\"https://colab.research.google.com/assets/colab-badge.svg\" alt=\"Open In Colab\"/></a>"
      ]
    },
    {
      "cell_type": "code",
      "metadata": {
        "id": "G4BpbTPHdEDX",
        "colab_type": "code",
        "colab": {}
      },
      "source": [
        "from google.colab import drive"
      ],
      "execution_count": 0,
      "outputs": []
    },
    {
      "cell_type": "code",
      "metadata": {
        "id": "xSdedsBbfVS7",
        "colab_type": "code",
        "outputId": "bfa3c66f-3355-4b43-ef2b-986a129928a6",
        "colab": {
          "base_uri": "https://localhost:8080/",
          "height": 80
        }
      },
      "source": [
        "# Importing necessary libraries\n",
        "import pandas as pd\n",
        "import numpy as np\n",
        "import matplotlib.pyplot as plt\n",
        "import matplotlib.image as mpimg\n",
        "import seaborn as sns\n",
        "from sklearn.model_selection import train_test_split\n",
        "from keras.utils.np_utils import to_categorical \n",
        "from keras.models import Sequential\n",
        "from keras.layers import Dense, Dropout, Flatten, Conv2D, MaxPool2D\n",
        "from keras.optimizers import RMSprop\n",
        "from keras.preprocessing.image import ImageDataGenerator\n",
        "from keras.callbacks import ReduceLROnPlateau"
      ],
      "execution_count": 1,
      "outputs": [
        {
          "output_type": "stream",
          "text": [
            "Using TensorFlow backend.\n"
          ],
          "name": "stderr"
        },
        {
          "output_type": "display_data",
          "data": {
            "text/html": [
              "<p style=\"color: red;\">\n",
              "The default version of TensorFlow in Colab will soon switch to TensorFlow 2.x.<br>\n",
              "We recommend you <a href=\"https://www.tensorflow.org/guide/migrate\" target=\"_blank\">upgrade</a> now \n",
              "or ensure your notebook will continue to use TensorFlow 1.x via the <code>%tensorflow_version 1.x</code> magic:\n",
              "<a href=\"https://colab.research.google.com/notebooks/tensorflow_version.ipynb\" target=\"_blank\">more info</a>.</p>\n"
            ],
            "text/plain": [
              "<IPython.core.display.HTML object>"
            ]
          },
          "metadata": {
            "tags": []
          }
        }
      ]
    },
    {
      "cell_type": "code",
      "metadata": {
        "id": "7oF-VSo7df99",
        "colab_type": "code",
        "outputId": "d621b14a-ff14-47e8-a24f-70fb8edf8dcc",
        "colab": {
          "base_uri": "https://localhost:8080/",
          "height": 122
        }
      },
      "source": [
        "drive.mount('/content/drive')"
      ],
      "execution_count": 3,
      "outputs": [
        {
          "output_type": "stream",
          "text": [
            "Go to this URL in a browser: https://accounts.google.com/o/oauth2/auth?client_id=947318989803-6bn6qk8qdgf4n4g3pfee6491hc0brc4i.apps.googleusercontent.com&redirect_uri=urn%3aietf%3awg%3aoauth%3a2.0%3aoob&response_type=code&scope=email%20https%3a%2f%2fwww.googleapis.com%2fauth%2fdocs.test%20https%3a%2f%2fwww.googleapis.com%2fauth%2fdrive%20https%3a%2f%2fwww.googleapis.com%2fauth%2fdrive.photos.readonly%20https%3a%2f%2fwww.googleapis.com%2fauth%2fpeopleapi.readonly\n",
            "\n",
            "Enter your authorization code:\n",
            "··········\n",
            "Mounted at /content/drive\n"
          ],
          "name": "stdout"
        }
      ]
    },
    {
      "cell_type": "code",
      "metadata": {
        "id": "JV_T1_jWdijs",
        "colab_type": "code",
        "outputId": "9fb50c02-76af-497d-c6a5-50590a5599b4",
        "colab": {
          "base_uri": "https://localhost:8080/",
          "height": 34
        }
      },
      "source": [
        "cd /content/drive//'My Drive/Numta'"
      ],
      "execution_count": 4,
      "outputs": [
        {
          "output_type": "stream",
          "text": [
            "/content/drive/My Drive/Numta\n"
          ],
          "name": "stdout"
        }
      ]
    },
    {
      "cell_type": "code",
      "metadata": {
        "id": "ustyN1gydz2j",
        "colab_type": "code",
        "outputId": "ea72fa26-305d-4f17-d18e-11e2120e0a2d",
        "colab": {
          "base_uri": "https://localhost:8080/",
          "height": 34
        }
      },
      "source": [
        "ls"
      ],
      "execution_count": 5,
      "outputs": [
        {
          "output_type": "stream",
          "text": [
            "\u001b[0m\u001b[01;34mcode\u001b[0m/  \u001b[01;34mdata\u001b[0m/  \u001b[01;34mFinal_DB\u001b[0m/  \u001b[01;34mmodel\u001b[0m/\n"
          ],
          "name": "stdout"
        }
      ]
    },
    {
      "cell_type": "code",
      "metadata": {
        "id": "c2STZlH8d7E9",
        "colab_type": "code",
        "colab": {}
      },
      "source": [
        "#Loading the data set and variable assignment\n",
        "train = pd.read_csv(\"data/digit-recognizer/train.csv\")\n",
        "test = pd.read_csv(\"data/digit-recognizer/test.csv\")\n",
        "Y_train = train[\"label\"]\n",
        "X_train = train.drop(labels = [\"label\"],axis = 1) \n",
        "Y_train = to_categorical(Y_train, num_classes = 10) #One hot encoding"
      ],
      "execution_count": 0,
      "outputs": []
    },
    {
      "cell_type": "code",
      "metadata": {
        "id": "VWPs_eLpfZso",
        "colab_type": "code",
        "colab": {
          "base_uri": "https://localhost:8080/",
          "height": 102
        },
        "outputId": "d55389e5-6d7d-4970-f118-a4c98b8ebe5f"
      },
      "source": [
        "#Checking for NULL values\n",
        "X_train.isnull().any().describe()\n",
        "test.isnull().any().describe()"
      ],
      "execution_count": 8,
      "outputs": [
        {
          "output_type": "execute_result",
          "data": {
            "text/plain": [
              "count       784\n",
              "unique        1\n",
              "top       False\n",
              "freq        784\n",
              "dtype: object"
            ]
          },
          "metadata": {
            "tags": []
          },
          "execution_count": 8
        }
      ]
    },
    {
      "cell_type": "code",
      "metadata": {
        "id": "R5vtl3-8f-R7",
        "colab_type": "code",
        "colab": {}
      },
      "source": [
        "# As pixel values are within 0-255, it's a good normalization technique to scale them from 0-1\n",
        "X_train = X_train / 255\n",
        "test = test / 255"
      ],
      "execution_count": 0,
      "outputs": []
    },
    {
      "cell_type": "code",
      "metadata": {
        "id": "sCibR7Eict5z",
        "colab_type": "code",
        "colab": {}
      },
      "source": [
        "# perfroming dimensional tweakings for the network inputs and spliting the data set according to 90:10 ratio\n",
        "X_train = X_train.values.reshape(-1,28,28,1)\n",
        "test = test.values.reshape(-1,28,28,1)\n",
        "X_train, X_val, Y_train, Y_val = train_test_split(X_train, Y_train, test_size = 0.1, random_state=2)"
      ],
      "execution_count": 0,
      "outputs": []
    },
    {
      "cell_type": "code",
      "metadata": {
        "id": "d5Pz2VRodDoe",
        "colab_type": "code",
        "colab": {
          "base_uri": "https://localhost:8080/",
          "height": 258
        },
        "outputId": "37d51b30-5363-4579-ffe0-9dc4f7f6e792"
      },
      "source": [
        "#Architecture\n",
        "model = Sequential()\n",
        "model.add(Conv2D(filters = 32, kernel_size = (5,5), padding = 'Same', activation ='relu', input_shape = (28,28,1)))\n",
        "model.add(Conv2D(filters = 32, kernel_size = (5,5), padding = 'Same', activation ='relu'))\n",
        "model.add(MaxPool2D(pool_size=(2,2)))\n",
        "model.add(Dropout(0.25))\n",
        "model.add(Conv2D(filters = 64, kernel_size = (3,3), padding = 'Same', activation ='relu'))\n",
        "model.add(Conv2D(filters = 64, kernel_size = (3,3), padding = 'Same', activation ='relu'))\n",
        "model.add(MaxPool2D(pool_size=(2,2), strides=(2,2)))"
      ],
      "execution_count": 12,
      "outputs": [
        {
          "output_type": "stream",
          "text": [
            "WARNING:tensorflow:From /usr/local/lib/python3.6/dist-packages/keras/backend/tensorflow_backend.py:66: The name tf.get_default_graph is deprecated. Please use tf.compat.v1.get_default_graph instead.\n",
            "\n",
            "WARNING:tensorflow:From /usr/local/lib/python3.6/dist-packages/keras/backend/tensorflow_backend.py:541: The name tf.placeholder is deprecated. Please use tf.compat.v1.placeholder instead.\n",
            "\n",
            "WARNING:tensorflow:From /usr/local/lib/python3.6/dist-packages/keras/backend/tensorflow_backend.py:4432: The name tf.random_uniform is deprecated. Please use tf.random.uniform instead.\n",
            "\n",
            "WARNING:tensorflow:From /usr/local/lib/python3.6/dist-packages/keras/backend/tensorflow_backend.py:4267: The name tf.nn.max_pool is deprecated. Please use tf.nn.max_pool2d instead.\n",
            "\n",
            "WARNING:tensorflow:From /usr/local/lib/python3.6/dist-packages/keras/backend/tensorflow_backend.py:148: The name tf.placeholder_with_default is deprecated. Please use tf.compat.v1.placeholder_with_default instead.\n",
            "\n",
            "WARNING:tensorflow:From /usr/local/lib/python3.6/dist-packages/keras/backend/tensorflow_backend.py:3733: calling dropout (from tensorflow.python.ops.nn_ops) with keep_prob is deprecated and will be removed in a future version.\n",
            "Instructions for updating:\n",
            "Please use `rate` instead of `keep_prob`. Rate should be set to `rate = 1 - keep_prob`.\n"
          ],
          "name": "stdout"
        }
      ]
    },
    {
      "cell_type": "code",
      "metadata": {
        "id": "iB3zDM-SdWyg",
        "colab_type": "code",
        "colab": {}
      },
      "source": [
        "model.add(Dropout(0.25))\n",
        "model.add(Flatten())\n",
        "model.add(Dense(256, activation = \"relu\"))\n",
        "model.add(Dropout(0.5))\n",
        "model.add(Dense(10, activation = \"softmax\"))"
      ],
      "execution_count": 0,
      "outputs": []
    },
    {
      "cell_type": "code",
      "metadata": {
        "id": "rfDah5yXdp5b",
        "colab_type": "code",
        "colab": {
          "base_uri": "https://localhost:8080/",
          "height": 105
        },
        "outputId": "b5770222-b830-48e4-927b-602353ef55f0"
      },
      "source": [
        "optimizer = RMSprop(lr=0.001, rho=0.9, epsilon=1e-08, decay=0.0)\n",
        "model.compile(optimizer = optimizer , loss = \"categorical_crossentropy\", metrics=[\"accuracy\"])\n",
        "epochs = 30\n",
        "batch_size = 64\n",
        "learning_rate_reduction = ReduceLROnPlateau(monitor='val_acc', \n",
        "                                            patience=3, \n",
        "                                            verbose=1, \n",
        "                                            factor=0.5, \n",
        "                                            min_lr=0.00001)"
      ],
      "execution_count": 14,
      "outputs": [
        {
          "output_type": "stream",
          "text": [
            "WARNING:tensorflow:From /usr/local/lib/python3.6/dist-packages/keras/optimizers.py:793: The name tf.train.Optimizer is deprecated. Please use tf.compat.v1.train.Optimizer instead.\n",
            "\n",
            "WARNING:tensorflow:From /usr/local/lib/python3.6/dist-packages/keras/backend/tensorflow_backend.py:3576: The name tf.log is deprecated. Please use tf.math.log instead.\n",
            "\n"
          ],
          "name": "stdout"
        }
      ]
    },
    {
      "cell_type": "code",
      "metadata": {
        "id": "uUS0utpEd2j7",
        "colab_type": "code",
        "colab": {
          "base_uri": "https://localhost:8080/",
          "height": 1000
        },
        "outputId": "e15083b6-a729-4d0c-bb50-acd1827f59f4"
      },
      "source": [
        "final = model.fit(X_train, Y_train, batch_size = batch_size, epochs = epochs, validation_data = (X_val, Y_val),callbacks=[learning_rate_reduction])"
      ],
      "execution_count": 15,
      "outputs": [
        {
          "output_type": "stream",
          "text": [
            "WARNING:tensorflow:From /usr/local/lib/python3.6/dist-packages/tensorflow_core/python/ops/math_grad.py:1424: where (from tensorflow.python.ops.array_ops) is deprecated and will be removed in a future version.\n",
            "Instructions for updating:\n",
            "Use tf.where in 2.0, which has the same broadcast rule as np.where\n",
            "WARNING:tensorflow:From /usr/local/lib/python3.6/dist-packages/keras/backend/tensorflow_backend.py:1033: The name tf.assign_add is deprecated. Please use tf.compat.v1.assign_add instead.\n",
            "\n",
            "WARNING:tensorflow:From /usr/local/lib/python3.6/dist-packages/keras/backend/tensorflow_backend.py:1020: The name tf.assign is deprecated. Please use tf.compat.v1.assign instead.\n",
            "\n",
            "WARNING:tensorflow:From /usr/local/lib/python3.6/dist-packages/keras/backend/tensorflow_backend.py:3005: The name tf.Session is deprecated. Please use tf.compat.v1.Session instead.\n",
            "\n",
            "Train on 37800 samples, validate on 4200 samples\n",
            "Epoch 1/30\n",
            "WARNING:tensorflow:From /usr/local/lib/python3.6/dist-packages/keras/backend/tensorflow_backend.py:190: The name tf.get_default_session is deprecated. Please use tf.compat.v1.get_default_session instead.\n",
            "\n",
            "WARNING:tensorflow:From /usr/local/lib/python3.6/dist-packages/keras/backend/tensorflow_backend.py:197: The name tf.ConfigProto is deprecated. Please use tf.compat.v1.ConfigProto instead.\n",
            "\n",
            "WARNING:tensorflow:From /usr/local/lib/python3.6/dist-packages/keras/backend/tensorflow_backend.py:207: The name tf.global_variables is deprecated. Please use tf.compat.v1.global_variables instead.\n",
            "\n",
            "WARNING:tensorflow:From /usr/local/lib/python3.6/dist-packages/keras/backend/tensorflow_backend.py:216: The name tf.is_variable_initialized is deprecated. Please use tf.compat.v1.is_variable_initialized instead.\n",
            "\n",
            "WARNING:tensorflow:From /usr/local/lib/python3.6/dist-packages/keras/backend/tensorflow_backend.py:223: The name tf.variables_initializer is deprecated. Please use tf.compat.v1.variables_initializer instead.\n",
            "\n",
            "37800/37800 [==============================] - 262s 7ms/step - loss: 0.2449 - acc: 0.9238 - val_loss: 0.0770 - val_acc: 0.9790\n",
            "Epoch 2/30\n",
            "37800/37800 [==============================] - 257s 7ms/step - loss: 0.1000 - acc: 0.9724 - val_loss: 0.0579 - val_acc: 0.9845\n",
            "Epoch 3/30\n",
            "37800/37800 [==============================] - 256s 7ms/step - loss: 0.0884 - acc: 0.9768 - val_loss: 0.0483 - val_acc: 0.9862\n",
            "Epoch 4/30\n",
            "37800/37800 [==============================] - 260s 7ms/step - loss: 0.0792 - acc: 0.9795 - val_loss: 0.0557 - val_acc: 0.9829\n",
            "Epoch 5/30\n",
            "37800/37800 [==============================] - 257s 7ms/step - loss: 0.0797 - acc: 0.9808 - val_loss: 0.0502 - val_acc: 0.9874\n",
            "Epoch 6/30\n",
            "37800/37800 [==============================] - 256s 7ms/step - loss: 0.0804 - acc: 0.9818 - val_loss: 0.0557 - val_acc: 0.9883\n",
            "Epoch 7/30\n",
            "37800/37800 [==============================] - 258s 7ms/step - loss: 0.0804 - acc: 0.9822 - val_loss: 0.0581 - val_acc: 0.9879\n",
            "Epoch 8/30\n",
            "37800/37800 [==============================] - 259s 7ms/step - loss: 0.0810 - acc: 0.9813 - val_loss: 0.0877 - val_acc: 0.9840\n",
            "Epoch 9/30\n",
            "37800/37800 [==============================] - 259s 7ms/step - loss: 0.0828 - acc: 0.9821 - val_loss: 0.0617 - val_acc: 0.9898\n",
            "Epoch 10/30\n",
            "37800/37800 [==============================] - 258s 7ms/step - loss: 0.0968 - acc: 0.9809 - val_loss: 0.0562 - val_acc: 0.9890\n",
            "Epoch 11/30\n",
            "37800/37800 [==============================] - 255s 7ms/step - loss: 0.1247 - acc: 0.9804 - val_loss: 0.1264 - val_acc: 0.9867\n",
            "Epoch 12/30\n",
            "37800/37800 [==============================] - 256s 7ms/step - loss: 0.1232 - acc: 0.9802 - val_loss: 0.0727 - val_acc: 0.9886\n",
            "\n",
            "Epoch 00012: ReduceLROnPlateau reducing learning rate to 0.0005000000237487257.\n",
            "Epoch 13/30\n",
            "37800/37800 [==============================] - 256s 7ms/step - loss: 0.0772 - acc: 0.9851 - val_loss: 0.0524 - val_acc: 0.9883\n",
            "Epoch 14/30\n",
            "37800/37800 [==============================] - 256s 7ms/step - loss: 0.0702 - acc: 0.9853 - val_loss: 0.0411 - val_acc: 0.9910\n",
            "Epoch 15/30\n",
            "37800/37800 [==============================] - 257s 7ms/step - loss: 0.0663 - acc: 0.9862 - val_loss: 0.0398 - val_acc: 0.9919\n",
            "Epoch 16/30\n",
            "37800/37800 [==============================] - 258s 7ms/step - loss: 0.0657 - acc: 0.9863 - val_loss: 0.0335 - val_acc: 0.9919\n",
            "Epoch 17/30\n",
            "37800/37800 [==============================] - 259s 7ms/step - loss: 0.0646 - acc: 0.9864 - val_loss: 0.0588 - val_acc: 0.9905\n",
            "Epoch 18/30\n",
            "37800/37800 [==============================] - 256s 7ms/step - loss: 0.0684 - acc: 0.9857 - val_loss: 0.0341 - val_acc: 0.9917\n",
            "\n",
            "Epoch 00018: ReduceLROnPlateau reducing learning rate to 0.0002500000118743628.\n",
            "Epoch 19/30\n",
            "37800/37800 [==============================] - 255s 7ms/step - loss: 0.0474 - acc: 0.9898 - val_loss: 0.0330 - val_acc: 0.9931\n",
            "Epoch 20/30\n",
            "37800/37800 [==============================] - 254s 7ms/step - loss: 0.0509 - acc: 0.9882 - val_loss: 0.0343 - val_acc: 0.9931\n",
            "Epoch 21/30\n",
            "37800/37800 [==============================] - 257s 7ms/step - loss: 0.0496 - acc: 0.9886 - val_loss: 0.0297 - val_acc: 0.9933\n",
            "Epoch 22/30\n",
            "37800/37800 [==============================] - 258s 7ms/step - loss: 0.0479 - acc: 0.9890 - val_loss: 0.0355 - val_acc: 0.9921\n",
            "Epoch 23/30\n",
            "37800/37800 [==============================] - 257s 7ms/step - loss: 0.0495 - acc: 0.9890 - val_loss: 0.0370 - val_acc: 0.9926\n",
            "Epoch 24/30\n",
            "37800/37800 [==============================] - 257s 7ms/step - loss: 0.0459 - acc: 0.9896 - val_loss: 0.0357 - val_acc: 0.9924\n",
            "\n",
            "Epoch 00024: ReduceLROnPlateau reducing learning rate to 0.0001250000059371814.\n",
            "Epoch 25/30\n",
            "37800/37800 [==============================] - 254s 7ms/step - loss: 0.0403 - acc: 0.9903 - val_loss: 0.0340 - val_acc: 0.9924\n",
            "Epoch 26/30\n",
            "37800/37800 [==============================] - 257s 7ms/step - loss: 0.0373 - acc: 0.9912 - val_loss: 0.0357 - val_acc: 0.9933\n",
            "Epoch 27/30\n",
            "37800/37800 [==============================] - 258s 7ms/step - loss: 0.0346 - acc: 0.9915 - val_loss: 0.0377 - val_acc: 0.9919\n",
            "\n",
            "Epoch 00027: ReduceLROnPlateau reducing learning rate to 6.25000029685907e-05.\n",
            "Epoch 28/30\n",
            "37800/37800 [==============================] - 258s 7ms/step - loss: 0.0313 - acc: 0.9920 - val_loss: 0.0307 - val_acc: 0.9931\n",
            "Epoch 29/30\n",
            "37800/37800 [==============================] - 255s 7ms/step - loss: 0.0333 - acc: 0.9912 - val_loss: 0.0324 - val_acc: 0.9940\n",
            "Epoch 30/30\n",
            "37800/37800 [==============================] - 258s 7ms/step - loss: 0.0308 - acc: 0.9917 - val_loss: 0.0311 - val_acc: 0.9931\n"
          ],
          "name": "stdout"
        }
      ]
    },
    {
      "cell_type": "code",
      "metadata": {
        "id": "Rw7UReqFd9t_",
        "colab_type": "code",
        "colab": {}
      },
      "source": [
        "model.save(\"trained_model.h5\")"
      ],
      "execution_count": 0,
      "outputs": []
    },
    {
      "cell_type": "code",
      "metadata": {
        "id": "wdqFyq_p7qxg",
        "colab_type": "code",
        "colab": {}
      },
      "source": [
        "results = model.predict(test)"
      ],
      "execution_count": 0,
      "outputs": []
    },
    {
      "cell_type": "code",
      "metadata": {
        "id": "7WTm5gNM8IXb",
        "colab_type": "code",
        "colab": {}
      },
      "source": [
        ""
      ],
      "execution_count": 0,
      "outputs": []
    }
  ]
}